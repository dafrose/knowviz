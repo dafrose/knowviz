{
 "cells": [
  {
   "cell_type": "code",
   "execution_count": 3,
   "metadata": {},
   "outputs": [],
   "source": [
    "import networkx as nx\n",
    "import ipywidgets as widgets\n",
    "from knowviz import index, io\n",
    "from IPython.display import display"
   ]
  },
  {
   "cell_type": "code",
   "execution_count": 4,
   "metadata": {},
   "outputs": [],
   "source": [
    "from ipywidgets import VBox, HBox, Dropdown, Label, Layout, Text, Accordion, SelectMultiple, Button, Select"
   ]
  },
  {
   "cell_type": "code",
   "execution_count": 5,
   "metadata": {},
   "outputs": [],
   "source": [
    "quantities = index.KeywordIndex(r\"C:\\Users\\storm\\PycharmProjects\\knowdb\\metadata\\quantities.yml\")"
   ]
  },
  {
   "cell_type": "code",
   "execution_count": 32,
   "metadata": {},
   "outputs": [],
   "source": [
    "# select a keyword\n",
    "\n",
    "style = {'description_width': 'initial'}\n",
    "select_keyword = Dropdown(options=list(quantities.unique_keys()),\n",
    "                            value=None, \n",
    "                            description=\"Select keyword:\",\n",
    "                            style=style)\n",
    "\n",
    "#edit keyword properties\n",
    "keyword_edit_box = VBox()\n",
    "keyword_name = Text(style=style, description=\"Name for display:\")\n",
    "select_files = Select()\n",
    "file_open_button = Button(description=\"Open file\", disabled=True)\n",
    "file_add_button = Button(description=\"Add file\")\n",
    "file_box = HBox((select_files, VBox((file_open_button, \n",
    "                                     file_add_button))))\n",
    "\n",
    "\n",
    "select_synonyms = SelectMultiple()\n",
    "keyword_acc = Accordion(children=(file_box, select_synonyms), selected_index=None)\n",
    "keyword_acc.set_title(0, \"Files\")\n",
    "keyword_acc.set_title(1, \"Synonyms\")\n",
    "\n",
    "\n",
    "\n",
    "label = Label(value=select_keyword.value)\n",
    "edit_keyword_info = widgets.VBox([select_keyword, keyword_edit_box])\n",
    "def on_keyword_selected(change):\n",
    "    keyword_edit_box.children = (keyword_name, keyword_acc) \n",
    "    keyword_info = quantities.keyword_info(change.new)\n",
    "    select_files.options = keyword_info[\"files\"]\n",
    "    select_files.index=None\n",
    "    file_open_button.disabled = True\n",
    "    select_synonyms.options = keyword_info[\"synonyms\"]\n",
    "    categories = keyword_info[\"categories\"]\n",
    "    keyword_acc.selected_index = None\n",
    "    if \"name\" in keyword_info:\n",
    "        keyword_name.value = keyword_info[\"name\"]\n",
    "    else:\n",
    "        keyword_name.value = change.new\n",
    "        \n",
    "def on_file_selected(change):\n",
    "    file_open_button.disabled=False\n",
    "    \n",
    "def on_file_open_button_clicked(b):\n",
    "    io.startfile(os.path.join(quantities.basedir, select_files.value))\n",
    "#     io.startfile(select_files.value)\n",
    "    \n",
    "    \n",
    "    \n",
    "file_open_button.on_click(on_file_open_button_clicked)\n",
    "select_keyword.observe(on_keyword_selected, \"value\")\n",
    "select_files.observe(on_file_selected, type=\"change\")"
   ]
  },
  {
   "cell_type": "code",
   "execution_count": 40,
   "metadata": {},
   "outputs": [
    {
     "data": {
      "text/plain": [
       "(Select(options=('quantities\\\\neurobiology\\\\g-ratio.pdf', 'quantities\\\\neurobiology\\\\g-ratio.tex'), value='quantities\\\\neurobiology\\\\g-ratio.pdf'),\n",
       " VBox(children=(Button(description='Open file', style=ButtonStyle()), Button(description='Add file', style=ButtonStyle()))))"
      ]
     },
     "execution_count": 40,
     "metadata": {},
     "output_type": "execute_result"
    }
   ],
   "source": [
    "file_box.children"
   ]
  },
  {
   "cell_type": "code",
   "execution_count": 33,
   "metadata": {
    "scrolled": false
   },
   "outputs": [
    {
     "data": {
      "application/vnd.jupyter.widget-view+json": {
       "model_id": "df1111084f69403da1bba5c79f1193e7",
       "version_major": 2,
       "version_minor": 0
      },
      "text/plain": [
       "VBox(children=(Dropdown(description='Select keyword:', options=('bound-proton-fraction', 'MR_g-ratio', 'myelin…"
      ]
     },
     "metadata": {},
     "output_type": "display_data"
    }
   ],
   "source": [
    "display(edit_keyword_info)"
   ]
  },
  {
   "cell_type": "code",
   "execution_count": null,
   "metadata": {},
   "outputs": [],
   "source": [
    "select_keyword.observe()"
   ]
  },
  {
   "cell_type": "code",
   "execution_count": 23,
   "metadata": {},
   "outputs": [],
   "source": [
    "import os"
   ]
  },
  {
   "cell_type": "code",
   "execution_count": null,
   "metadata": {},
   "outputs": [],
   "source": [
    "os.startfile"
   ]
  },
  {
   "cell_type": "code",
   "execution_count": 35,
   "metadata": {},
   "outputs": [],
   "source": [
    "from knowviz import gui"
   ]
  },
  {
   "cell_type": "code",
   "execution_count": 36,
   "metadata": {},
   "outputs": [
    {
     "data": {
      "application/vnd.jupyter.widget-view+json": {
       "model_id": "db1a110539ca41a8babf8bbdb7b31d0a",
       "version_major": 2,
       "version_minor": 0
      },
      "text/plain": [
       "VBox(children=(Dropdown(description='Select keyword:', options=('bound-proton-fraction', 'MR_g-ratio', 'myelin…"
      ]
     },
     "metadata": {},
     "output_type": "display_data"
    }
   ],
   "source": [
    "gui.keyword_info_gui(quantities)"
   ]
  },
  {
   "cell_type": "code",
   "execution_count": 1,
   "metadata": {},
   "outputs": [],
   "source": [
    "from knowviz.gui import edit_keyword"
   ]
  },
  {
   "cell_type": "code",
   "execution_count": 6,
   "metadata": {},
   "outputs": [
    {
     "data": {
      "application/vnd.jupyter.widget-view+json": {
       "model_id": "dd872fa8577840d2a030a04a38af8a81",
       "version_major": 2,
       "version_minor": 0
      },
      "text/plain": [
       "EditKeywordTab(children=(KeywordDropdown(description='Select keyword:', options=('bound-proton-fraction', 'MR_…"
      ]
     },
     "metadata": {},
     "output_type": "display_data"
    }
   ],
   "source": [
    "edit_keyword.EditKeywordTab(quantities)"
   ]
  },
  {
   "cell_type": "code",
   "execution_count": null,
   "metadata": {},
   "outputs": [],
   "source": []
  }
 ],
 "metadata": {
  "kernelspec": {
   "display_name": "Python 3",
   "language": "python",
   "name": "python3"
  },
  "language_info": {
   "codemirror_mode": {
    "name": "ipython",
    "version": 3
   },
   "file_extension": ".py",
   "mimetype": "text/x-python",
   "name": "python",
   "nbconvert_exporter": "python",
   "pygments_lexer": "ipython3",
   "version": "3.7.1"
  }
 },
 "nbformat": 4,
 "nbformat_minor": 2
}
