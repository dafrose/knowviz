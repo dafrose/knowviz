{
 "cells": [
  {
   "cell_type": "code",
   "execution_count": 1,
   "metadata": {},
   "outputs": [],
   "source": [
    "import networkx as nx\n",
    "import ipywidgets as widgets\n",
    "from knowviz import index, io\n",
    "from IPython.display import display"
   ]
  },
  {
   "cell_type": "code",
   "execution_count": 2,
   "metadata": {},
   "outputs": [],
   "source": [
    "from ipywidgets import VBox, HBox, Dropdown, Label, Layout, Text, Accordion, SelectMultiple"
   ]
  },
  {
   "cell_type": "code",
   "execution_count": 3,
   "metadata": {},
   "outputs": [],
   "source": [
    "quantities = index.KeywordIndex(r\"C:\\Users\\storm\\PycharmProjects\\knowdb\\metadata\\quantities.yml\")"
   ]
  },
  {
   "cell_type": "code",
   "execution_count": 4,
   "metadata": {},
   "outputs": [],
   "source": [
    "# select a keyword\n",
    "\n",
    "style = {'description_width': 'initial'}\n",
    "select_keyword = Dropdown(options=list(quantities.unique_keys()),\n",
    "                            value=None, \n",
    "                            description=\"Select keyword:\",\n",
    "                            style=style)\n",
    "\n",
    "#edit keyword properties\n",
    "keyword_edit_box = VBox()\n",
    "keyword_name = Text(style=style, description=\"Name for display:\")\n",
    "select_files = SelectMultiple()\n",
    "select_synonyms = SelectMultiple()\n",
    "acc = Accordion(children=(select_files, select_synonyms))\n",
    "acc.set_title(0, \"Files\")\n",
    "acc.set_title(1, \"Synonyms\")\n",
    "\n",
    "\n",
    "\n",
    "label = Label(value=select_keyword.value)\n",
    "edit_keyword_info = widgets.VBox([select_keyword, keyword_edit_box])\n",
    "def keyword_selected(change):\n",
    "    keyword_edit_box.children = (keyword_name, acc)  \n",
    "    acc.selected_index = None\n",
    "    keyword_name.value = change.new\n",
    "\n",
    "select_keyword.observe(keyword_selected, \"value\")"
   ]
  },
  {
   "cell_type": "code",
   "execution_count": 5,
   "metadata": {},
   "outputs": [],
   "source": [
    "def get_keyword_info(index, keyword):\n",
    "    file_list = index[keyword][\"files\"]\n",
    "    \n",
    "    "
   ]
  },
  {
   "cell_type": "code",
   "execution_count": 6,
   "metadata": {},
   "outputs": [
    {
     "data": {
      "application/vnd.jupyter.widget-view+json": {
       "model_id": "afb2b12b605b45a0869516d295ea91f1",
       "version_major": 2,
       "version_minor": 0
      },
      "text/plain": [
       "VBox(children=(Dropdown(description='Select keyword:', options=('bound-proton-fraction', 'MR_g-ratio', 'myelin…"
      ]
     },
     "metadata": {},
     "output_type": "display_data"
    }
   ],
   "source": [
    "display(edit_keyword_info)"
   ]
  },
  {
   "cell_type": "code",
   "execution_count": null,
   "metadata": {},
   "outputs": [],
   "source": []
  },
  {
   "cell_type": "code",
   "execution_count": null,
   "metadata": {},
   "outputs": [],
   "source": []
  }
 ],
 "metadata": {
  "kernelspec": {
   "display_name": "Python 3",
   "language": "python",
   "name": "python3"
  },
  "language_info": {
   "codemirror_mode": {
    "name": "ipython",
    "version": 3
   },
   "file_extension": ".py",
   "mimetype": "text/x-python",
   "name": "python",
   "nbconvert_exporter": "python",
   "pygments_lexer": "ipython3",
   "version": "3.7.1"
  }
 },
 "nbformat": 4,
 "nbformat_minor": 2
}
