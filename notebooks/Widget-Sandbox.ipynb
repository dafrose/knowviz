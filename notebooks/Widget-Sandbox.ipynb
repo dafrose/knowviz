{
 "cells": [
  {
   "cell_type": "code",
   "execution_count": 1,
   "metadata": {},
   "outputs": [],
   "source": [
    "import networkx as nx\n",
    "import ipywidgets as widgets\n",
    "from knowviz import index, io\n",
    "from IPython.display import display\n",
    "%matplotlib notebook"
   ]
  },
  {
   "cell_type": "code",
   "execution_count": 2,
   "metadata": {},
   "outputs": [],
   "source": [
    "from ipywidgets import VBox, HBox, Dropdown, Label, Layout, Text, Accordion, SelectMultiple, Button, Select, Tab"
   ]
  },
  {
   "cell_type": "code",
   "execution_count": 3,
   "metadata": {},
   "outputs": [],
   "source": [
    "quantities = index.KeywordIndex(r\"C:\\Users\\storm\\PycharmProjects\\knowdb\\metadata\\quantities.yml\")\n",
    "models = index.RelationIndex(r\"C:\\Users\\storm\\PycharmProjects\\knowdb\\metadata\\models.yml\")"
   ]
  },
  {
   "cell_type": "code",
   "execution_count": 4,
   "metadata": {},
   "outputs": [],
   "source": [
    "from knowviz.gui.jupyter.tabs.database.keyword import KeywordTab"
   ]
  },
  {
   "cell_type": "code",
   "execution_count": 5,
   "metadata": {},
   "outputs": [],
   "source": [
    "class RootWidget(Tab):\n",
    "\n",
    "    def __init__(self, keyword_index, relation_index, **kwargs):\n",
    "        \n",
    "        self.keyword_index = keyword_index\n",
    "        self.relation_index = relation_index\n",
    "        children = (DatabaseTab(keyword_index, relation_index), Label(\"not implemented yet\"))\n",
    "        super().__init__(children, selected_index=None, **kwargs)\n",
    "        \n",
    "        self.set_title(0, \"Database\")\n",
    "        self.set_title(1, \"Visualisation\")\n",
    "        \n",
    "        \n",
    "class DatabaseTab(Tab):\n",
    "    \n",
    "    def __init__(self, keyword_index, relation_index, **kwargs):\n",
    "        \n",
    "        self.keyword_index = keyword_index\n",
    "        self.relation_index = relation_index\n",
    "        \n",
    "        children = (KeywordTab(keyword_index), RelationTab(relation_index))\n",
    "        super().__init__(children, selected_index=None, **kwargs)\n",
    "        \n",
    "        self.set_title(0, \"Keywords\")\n",
    "        self.set_title(1, \"Relations\")\n",
    "        \n",
    "\n",
    "class RelationTab(VBox):\n",
    "    \n",
    "    def __init__(self, relation_index, **kwargs):\n",
    "        \n",
    "        self.relation_index = relation_index\n",
    "        \n",
    "        children=(Text(\"Keywords\"),)\n",
    "        \n",
    "        super().__init__(children, **kwargs)\n"
   ]
  },
  {
   "cell_type": "code",
   "execution_count": 6,
   "metadata": {},
   "outputs": [
    {
     "data": {
      "application/vnd.jupyter.widget-view+json": {
       "model_id": "30b69829317e4b3592bf5716d9534fd7",
       "version_major": 2,
       "version_minor": 0
      },
      "text/plain": [
       "RootWidget(children=(DatabaseTab(children=(KeywordTab(children=(KeywordDropdown(description='Select keyword:',…"
      ]
     },
     "metadata": {},
     "output_type": "display_data"
    }
   ],
   "source": [
    "root = RootWidget(quantities, models)\n",
    "root"
   ]
  },
  {
   "cell_type": "code",
   "execution_count": null,
   "metadata": {},
   "outputs": [],
   "source": []
  },
  {
   "cell_type": "code",
   "execution_count": null,
   "metadata": {},
   "outputs": [],
   "source": []
  }
 ],
 "metadata": {
  "kernelspec": {
   "display_name": "Python 3",
   "language": "python",
   "name": "python3"
  },
  "language_info": {
   "codemirror_mode": {
    "name": "ipython",
    "version": 3
   },
   "file_extension": ".py",
   "mimetype": "text/x-python",
   "name": "python",
   "nbconvert_exporter": "python",
   "pygments_lexer": "ipython3",
   "version": "3.7.1"
  }
 },
 "nbformat": 4,
 "nbformat_minor": 2
}
